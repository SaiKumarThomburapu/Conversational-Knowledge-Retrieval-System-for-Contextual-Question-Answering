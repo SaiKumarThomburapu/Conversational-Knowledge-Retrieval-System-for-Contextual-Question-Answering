{
 "cells": [
  {
   "cell_type": "markdown",
   "id": "cae1b4ed-cbb1-4e2d-b817-de0a11a5c02e",
   "metadata": {},
   "source": [
    "## Kownledge worker(By Sai Kumar)"
   ]
  },
  {
   "cell_type": "code",
   "execution_count": 46,
   "id": "686f9f8f-7344-4bc8-91b0-f0fd846aaba4",
   "metadata": {},
   "outputs": [],
   "source": [
    "# imports\n",
    "\n",
    "import os\n",
    "import glob\n",
    "import gradio as gr"
   ]
  },
  {
   "cell_type": "code",
   "execution_count": 47,
   "id": "7a4c9a2f-d8ff-4d1b-929f-7d92313f6d6c",
   "metadata": {},
   "outputs": [],
   "source": [
    "\n",
    "MODEL = \"llama3.2\"\n",
    "db_name = \"vector_db\""
   ]
  },
  {
   "cell_type": "code",
   "execution_count": 48,
   "id": "1c7c6a8a-d50b-4b4a-b5ef-bccd4d5e18c5",
   "metadata": {
    "scrolled": true
   },
   "outputs": [
    {
     "name": "stdout",
     "output_type": "stream",
     "text": [
      "Requirement already satisfied: langchain-community in c:\\users\\mastan\\anaconda3\\lib\\site-packages (0.3.24)\n",
      "Requirement already satisfied: langchain-chroma in c:\\users\\mastan\\anaconda3\\lib\\site-packages (0.2.3)\n",
      "Requirement already satisfied: langchain-core<1.0.0,>=0.3.59 in c:\\users\\mastan\\anaconda3\\lib\\site-packages (from langchain-community) (0.3.59)\n",
      "Requirement already satisfied: langchain<1.0.0,>=0.3.25 in c:\\users\\mastan\\anaconda3\\lib\\site-packages (from langchain-community) (0.3.25)\n",
      "Requirement already satisfied: SQLAlchemy<3,>=1.4 in c:\\users\\mastan\\anaconda3\\lib\\site-packages (from langchain-community) (2.0.34)\n",
      "Requirement already satisfied: requests<3,>=2 in c:\\users\\mastan\\anaconda3\\lib\\site-packages (from langchain-community) (2.32.3)\n",
      "Requirement already satisfied: PyYAML>=5.3 in c:\\users\\mastan\\anaconda3\\lib\\site-packages (from langchain-community) (6.0.1)\n",
      "Requirement already satisfied: aiohttp<4.0.0,>=3.8.3 in c:\\users\\mastan\\anaconda3\\lib\\site-packages (from langchain-community) (3.10.5)\n",
      "Requirement already satisfied: tenacity!=8.4.0,<10,>=8.1.0 in c:\\users\\mastan\\anaconda3\\lib\\site-packages (from langchain-community) (8.2.3)\n",
      "Requirement already satisfied: dataclasses-json<0.7,>=0.5.7 in c:\\users\\mastan\\anaconda3\\lib\\site-packages (from langchain-community) (0.6.7)\n",
      "Requirement already satisfied: pydantic-settings<3.0.0,>=2.4.0 in c:\\users\\mastan\\anaconda3\\lib\\site-packages (from langchain-community) (2.6.1)\n",
      "Requirement already satisfied: langsmith<0.4,>=0.1.125 in c:\\users\\mastan\\anaconda3\\lib\\site-packages (from langchain-community) (0.3.42)\n",
      "Requirement already satisfied: httpx-sse<1.0.0,>=0.4.0 in c:\\users\\mastan\\anaconda3\\lib\\site-packages (from langchain-community) (0.4.0)\n",
      "Requirement already satisfied: numpy>=1.26.2 in c:\\users\\mastan\\anaconda3\\lib\\site-packages (from langchain-community) (1.26.4)\n",
      "Requirement already satisfied: chromadb!=0.5.10,!=0.5.11,!=0.5.12,!=0.5.4,!=0.5.5,!=0.5.7,!=0.5.9,<0.7.0,>=0.4.0 in c:\\users\\mastan\\anaconda3\\lib\\site-packages (from langchain-chroma) (0.6.3)\n",
      "Requirement already satisfied: aiohappyeyeballs>=2.3.0 in c:\\users\\mastan\\anaconda3\\lib\\site-packages (from aiohttp<4.0.0,>=3.8.3->langchain-community) (2.4.0)\n",
      "Requirement already satisfied: aiosignal>=1.1.2 in c:\\users\\mastan\\anaconda3\\lib\\site-packages (from aiohttp<4.0.0,>=3.8.3->langchain-community) (1.2.0)\n",
      "Requirement already satisfied: attrs>=17.3.0 in c:\\users\\mastan\\anaconda3\\lib\\site-packages (from aiohttp<4.0.0,>=3.8.3->langchain-community) (23.1.0)\n",
      "Requirement already satisfied: frozenlist>=1.1.1 in c:\\users\\mastan\\anaconda3\\lib\\site-packages (from aiohttp<4.0.0,>=3.8.3->langchain-community) (1.4.0)\n",
      "Requirement already satisfied: multidict<7.0,>=4.5 in c:\\users\\mastan\\anaconda3\\lib\\site-packages (from aiohttp<4.0.0,>=3.8.3->langchain-community) (6.0.4)\n",
      "Requirement already satisfied: yarl<2.0,>=1.0 in c:\\users\\mastan\\anaconda3\\lib\\site-packages (from aiohttp<4.0.0,>=3.8.3->langchain-community) (1.11.0)\n",
      "Requirement already satisfied: build>=1.0.3 in c:\\users\\mastan\\anaconda3\\lib\\site-packages (from chromadb!=0.5.10,!=0.5.11,!=0.5.12,!=0.5.4,!=0.5.5,!=0.5.7,!=0.5.9,<0.7.0,>=0.4.0->langchain-chroma) (1.2.2.post1)\n",
      "Requirement already satisfied: pydantic>=1.9 in c:\\users\\mastan\\anaconda3\\lib\\site-packages (from chromadb!=0.5.10,!=0.5.11,!=0.5.12,!=0.5.4,!=0.5.5,!=0.5.7,!=0.5.9,<0.7.0,>=0.4.0->langchain-chroma) (2.11.4)\n",
      "Requirement already satisfied: chroma-hnswlib==0.7.6 in c:\\users\\mastan\\anaconda3\\lib\\site-packages (from chromadb!=0.5.10,!=0.5.11,!=0.5.12,!=0.5.4,!=0.5.5,!=0.5.7,!=0.5.9,<0.7.0,>=0.4.0->langchain-chroma) (0.7.6)\n",
      "Requirement already satisfied: fastapi>=0.95.2 in c:\\users\\mastan\\anaconda3\\lib\\site-packages (from chromadb!=0.5.10,!=0.5.11,!=0.5.12,!=0.5.4,!=0.5.5,!=0.5.7,!=0.5.9,<0.7.0,>=0.4.0->langchain-chroma) (0.115.12)\n",
      "Requirement already satisfied: uvicorn>=0.18.3 in c:\\users\\mastan\\anaconda3\\lib\\site-packages (from uvicorn[standard]>=0.18.3->chromadb!=0.5.10,!=0.5.11,!=0.5.12,!=0.5.4,!=0.5.5,!=0.5.7,!=0.5.9,<0.7.0,>=0.4.0->langchain-chroma) (0.34.2)\n",
      "Requirement already satisfied: posthog>=2.4.0 in c:\\users\\mastan\\anaconda3\\lib\\site-packages (from chromadb!=0.5.10,!=0.5.11,!=0.5.12,!=0.5.4,!=0.5.5,!=0.5.7,!=0.5.9,<0.7.0,>=0.4.0->langchain-chroma) (4.0.1)\n",
      "Requirement already satisfied: typing_extensions>=4.5.0 in c:\\users\\mastan\\anaconda3\\lib\\site-packages (from chromadb!=0.5.10,!=0.5.11,!=0.5.12,!=0.5.4,!=0.5.5,!=0.5.7,!=0.5.9,<0.7.0,>=0.4.0->langchain-chroma) (4.13.2)\n",
      "Requirement already satisfied: onnxruntime>=1.14.1 in c:\\users\\mastan\\anaconda3\\lib\\site-packages (from chromadb!=0.5.10,!=0.5.11,!=0.5.12,!=0.5.4,!=0.5.5,!=0.5.7,!=0.5.9,<0.7.0,>=0.4.0->langchain-chroma) (1.22.0)\n",
      "Requirement already satisfied: opentelemetry-api>=1.2.0 in c:\\users\\mastan\\anaconda3\\lib\\site-packages (from chromadb!=0.5.10,!=0.5.11,!=0.5.12,!=0.5.4,!=0.5.5,!=0.5.7,!=0.5.9,<0.7.0,>=0.4.0->langchain-chroma) (1.33.0)\n",
      "Requirement already satisfied: opentelemetry-exporter-otlp-proto-grpc>=1.2.0 in c:\\users\\mastan\\anaconda3\\lib\\site-packages (from chromadb!=0.5.10,!=0.5.11,!=0.5.12,!=0.5.4,!=0.5.5,!=0.5.7,!=0.5.9,<0.7.0,>=0.4.0->langchain-chroma) (1.33.0)\n",
      "Requirement already satisfied: opentelemetry-instrumentation-fastapi>=0.41b0 in c:\\users\\mastan\\anaconda3\\lib\\site-packages (from chromadb!=0.5.10,!=0.5.11,!=0.5.12,!=0.5.4,!=0.5.5,!=0.5.7,!=0.5.9,<0.7.0,>=0.4.0->langchain-chroma) (0.54b0)\n",
      "Requirement already satisfied: opentelemetry-sdk>=1.2.0 in c:\\users\\mastan\\anaconda3\\lib\\site-packages (from chromadb!=0.5.10,!=0.5.11,!=0.5.12,!=0.5.4,!=0.5.5,!=0.5.7,!=0.5.9,<0.7.0,>=0.4.0->langchain-chroma) (1.33.0)\n",
      "Requirement already satisfied: tokenizers>=0.13.2 in c:\\users\\mastan\\anaconda3\\lib\\site-packages (from chromadb!=0.5.10,!=0.5.11,!=0.5.12,!=0.5.4,!=0.5.5,!=0.5.7,!=0.5.9,<0.7.0,>=0.4.0->langchain-chroma) (0.21.1)\n",
      "Requirement already satisfied: pypika>=0.48.9 in c:\\users\\mastan\\anaconda3\\lib\\site-packages (from chromadb!=0.5.10,!=0.5.11,!=0.5.12,!=0.5.4,!=0.5.5,!=0.5.7,!=0.5.9,<0.7.0,>=0.4.0->langchain-chroma) (0.48.9)\n",
      "Requirement already satisfied: tqdm>=4.65.0 in c:\\users\\mastan\\anaconda3\\lib\\site-packages (from chromadb!=0.5.10,!=0.5.11,!=0.5.12,!=0.5.4,!=0.5.5,!=0.5.7,!=0.5.9,<0.7.0,>=0.4.0->langchain-chroma) (4.66.5)\n",
      "Requirement already satisfied: overrides>=7.3.1 in c:\\users\\mastan\\anaconda3\\lib\\site-packages (from chromadb!=0.5.10,!=0.5.11,!=0.5.12,!=0.5.4,!=0.5.5,!=0.5.7,!=0.5.9,<0.7.0,>=0.4.0->langchain-chroma) (7.4.0)\n",
      "Requirement already satisfied: importlib-resources in c:\\users\\mastan\\anaconda3\\lib\\site-packages (from chromadb!=0.5.10,!=0.5.11,!=0.5.12,!=0.5.4,!=0.5.5,!=0.5.7,!=0.5.9,<0.7.0,>=0.4.0->langchain-chroma) (6.5.2)\n",
      "Requirement already satisfied: grpcio>=1.58.0 in c:\\users\\mastan\\anaconda3\\lib\\site-packages (from chromadb!=0.5.10,!=0.5.11,!=0.5.12,!=0.5.4,!=0.5.5,!=0.5.7,!=0.5.9,<0.7.0,>=0.4.0->langchain-chroma) (1.71.0)\n",
      "Requirement already satisfied: bcrypt>=4.0.1 in c:\\users\\mastan\\anaconda3\\lib\\site-packages (from chromadb!=0.5.10,!=0.5.11,!=0.5.12,!=0.5.4,!=0.5.5,!=0.5.7,!=0.5.9,<0.7.0,>=0.4.0->langchain-chroma) (4.3.0)\n",
      "Requirement already satisfied: typer>=0.9.0 in c:\\users\\mastan\\anaconda3\\lib\\site-packages (from chromadb!=0.5.10,!=0.5.11,!=0.5.12,!=0.5.4,!=0.5.5,!=0.5.7,!=0.5.9,<0.7.0,>=0.4.0->langchain-chroma) (0.15.2)\n",
      "Requirement already satisfied: kubernetes>=28.1.0 in c:\\users\\mastan\\anaconda3\\lib\\site-packages (from chromadb!=0.5.10,!=0.5.11,!=0.5.12,!=0.5.4,!=0.5.5,!=0.5.7,!=0.5.9,<0.7.0,>=0.4.0->langchain-chroma) (32.0.1)\n",
      "Requirement already satisfied: mmh3>=4.0.1 in c:\\users\\mastan\\anaconda3\\lib\\site-packages (from chromadb!=0.5.10,!=0.5.11,!=0.5.12,!=0.5.4,!=0.5.5,!=0.5.7,!=0.5.9,<0.7.0,>=0.4.0->langchain-chroma) (5.1.0)\n",
      "Requirement already satisfied: orjson>=3.9.12 in c:\\users\\mastan\\anaconda3\\lib\\site-packages (from chromadb!=0.5.10,!=0.5.11,!=0.5.12,!=0.5.4,!=0.5.5,!=0.5.7,!=0.5.9,<0.7.0,>=0.4.0->langchain-chroma) (3.10.16)\n",
      "Requirement already satisfied: httpx>=0.27.0 in c:\\users\\mastan\\anaconda3\\lib\\site-packages (from chromadb!=0.5.10,!=0.5.11,!=0.5.12,!=0.5.4,!=0.5.5,!=0.5.7,!=0.5.9,<0.7.0,>=0.4.0->langchain-chroma) (0.27.0)\n",
      "Requirement already satisfied: rich>=10.11.0 in c:\\users\\mastan\\anaconda3\\lib\\site-packages (from chromadb!=0.5.10,!=0.5.11,!=0.5.12,!=0.5.4,!=0.5.5,!=0.5.7,!=0.5.9,<0.7.0,>=0.4.0->langchain-chroma) (13.7.1)\n",
      "Requirement already satisfied: marshmallow<4.0.0,>=3.18.0 in c:\\users\\mastan\\anaconda3\\lib\\site-packages (from dataclasses-json<0.7,>=0.5.7->langchain-community) (3.26.1)\n",
      "Requirement already satisfied: typing-inspect<1,>=0.4.0 in c:\\users\\mastan\\anaconda3\\lib\\site-packages (from dataclasses-json<0.7,>=0.5.7->langchain-community) (0.9.0)\n",
      "Requirement already satisfied: langchain-text-splitters<1.0.0,>=0.3.8 in c:\\users\\mastan\\anaconda3\\lib\\site-packages (from langchain<1.0.0,>=0.3.25->langchain-community) (0.3.8)\n",
      "Requirement already satisfied: jsonpatch<2.0,>=1.33 in c:\\users\\mastan\\anaconda3\\lib\\site-packages (from langchain-core<1.0.0,>=0.3.59->langchain-community) (1.33)\n",
      "Requirement already satisfied: packaging<25,>=23.2 in c:\\users\\mastan\\appdata\\roaming\\python\\python312\\site-packages (from langchain-core<1.0.0,>=0.3.59->langchain-community) (24.2)\n",
      "Requirement already satisfied: requests-toolbelt<2.0.0,>=1.0.0 in c:\\users\\mastan\\anaconda3\\lib\\site-packages (from langsmith<0.4,>=0.1.125->langchain-community) (1.0.0)\n",
      "Requirement already satisfied: zstandard<0.24.0,>=0.23.0 in c:\\users\\mastan\\anaconda3\\lib\\site-packages (from langsmith<0.4,>=0.1.125->langchain-community) (0.23.0)\n",
      "Requirement already satisfied: python-dotenv>=0.21.0 in c:\\users\\mastan\\anaconda3\\lib\\site-packages (from pydantic-settings<3.0.0,>=2.4.0->langchain-community) (0.21.0)\n",
      "Requirement already satisfied: charset-normalizer<4,>=2 in c:\\users\\mastan\\anaconda3\\lib\\site-packages (from requests<3,>=2->langchain-community) (3.3.2)\n",
      "Requirement already satisfied: idna<4,>=2.5 in c:\\users\\mastan\\anaconda3\\lib\\site-packages (from requests<3,>=2->langchain-community) (3.7)\n",
      "Requirement already satisfied: urllib3<3,>=1.21.1 in c:\\users\\mastan\\anaconda3\\lib\\site-packages (from requests<3,>=2->langchain-community) (2.2.3)\n",
      "Requirement already satisfied: certifi>=2017.4.17 in c:\\users\\mastan\\anaconda3\\lib\\site-packages (from requests<3,>=2->langchain-community) (2025.1.31)\n",
      "Requirement already satisfied: greenlet!=0.4.17 in c:\\users\\mastan\\anaconda3\\lib\\site-packages (from SQLAlchemy<3,>=1.4->langchain-community) (3.0.1)\n",
      "Requirement already satisfied: pyproject_hooks in c:\\users\\mastan\\anaconda3\\lib\\site-packages (from build>=1.0.3->chromadb!=0.5.10,!=0.5.11,!=0.5.12,!=0.5.4,!=0.5.5,!=0.5.7,!=0.5.9,<0.7.0,>=0.4.0->langchain-chroma) (1.2.0)\n",
      "Requirement already satisfied: colorama in c:\\users\\mastan\\anaconda3\\lib\\site-packages (from build>=1.0.3->chromadb!=0.5.10,!=0.5.11,!=0.5.12,!=0.5.4,!=0.5.5,!=0.5.7,!=0.5.9,<0.7.0,>=0.4.0->langchain-chroma) (0.4.6)\n",
      "Requirement already satisfied: starlette<0.47.0,>=0.40.0 in c:\\users\\mastan\\anaconda3\\lib\\site-packages (from fastapi>=0.95.2->chromadb!=0.5.10,!=0.5.11,!=0.5.12,!=0.5.4,!=0.5.5,!=0.5.7,!=0.5.9,<0.7.0,>=0.4.0->langchain-chroma) (0.46.2)\n",
      "Requirement already satisfied: anyio in c:\\users\\mastan\\anaconda3\\lib\\site-packages (from httpx>=0.27.0->chromadb!=0.5.10,!=0.5.11,!=0.5.12,!=0.5.4,!=0.5.5,!=0.5.7,!=0.5.9,<0.7.0,>=0.4.0->langchain-chroma) (4.2.0)\n",
      "Requirement already satisfied: httpcore==1.* in c:\\users\\mastan\\anaconda3\\lib\\site-packages (from httpx>=0.27.0->chromadb!=0.5.10,!=0.5.11,!=0.5.12,!=0.5.4,!=0.5.5,!=0.5.7,!=0.5.9,<0.7.0,>=0.4.0->langchain-chroma) (1.0.2)\n",
      "Requirement already satisfied: sniffio in c:\\users\\mastan\\anaconda3\\lib\\site-packages (from httpx>=0.27.0->chromadb!=0.5.10,!=0.5.11,!=0.5.12,!=0.5.4,!=0.5.5,!=0.5.7,!=0.5.9,<0.7.0,>=0.4.0->langchain-chroma) (1.3.0)\n",
      "Requirement already satisfied: h11<0.15,>=0.13 in c:\\users\\mastan\\anaconda3\\lib\\site-packages (from httpcore==1.*->httpx>=0.27.0->chromadb!=0.5.10,!=0.5.11,!=0.5.12,!=0.5.4,!=0.5.5,!=0.5.7,!=0.5.9,<0.7.0,>=0.4.0->langchain-chroma) (0.14.0)\n",
      "Requirement already satisfied: jsonpointer>=1.9 in c:\\users\\mastan\\anaconda3\\lib\\site-packages (from jsonpatch<2.0,>=1.33->langchain-core<1.0.0,>=0.3.59->langchain-community) (2.1)\n",
      "Requirement already satisfied: six>=1.9.0 in c:\\users\\mastan\\appdata\\roaming\\python\\python312\\site-packages (from kubernetes>=28.1.0->chromadb!=0.5.10,!=0.5.11,!=0.5.12,!=0.5.4,!=0.5.5,!=0.5.7,!=0.5.9,<0.7.0,>=0.4.0->langchain-chroma) (1.17.0)\n",
      "Requirement already satisfied: python-dateutil>=2.5.3 in c:\\users\\mastan\\appdata\\roaming\\python\\python312\\site-packages (from kubernetes>=28.1.0->chromadb!=0.5.10,!=0.5.11,!=0.5.12,!=0.5.4,!=0.5.5,!=0.5.7,!=0.5.9,<0.7.0,>=0.4.0->langchain-chroma) (2.9.0.post0)\n",
      "Requirement already satisfied: google-auth>=1.0.1 in c:\\users\\mastan\\anaconda3\\lib\\site-packages (from kubernetes>=28.1.0->chromadb!=0.5.10,!=0.5.11,!=0.5.12,!=0.5.4,!=0.5.5,!=0.5.7,!=0.5.9,<0.7.0,>=0.4.0->langchain-chroma) (2.39.0)\n",
      "Requirement already satisfied: websocket-client!=0.40.0,!=0.41.*,!=0.42.*,>=0.32.0 in c:\\users\\mastan\\anaconda3\\lib\\site-packages (from kubernetes>=28.1.0->chromadb!=0.5.10,!=0.5.11,!=0.5.12,!=0.5.4,!=0.5.5,!=0.5.7,!=0.5.9,<0.7.0,>=0.4.0->langchain-chroma) (1.8.0)\n",
      "Requirement already satisfied: requests-oauthlib in c:\\users\\mastan\\anaconda3\\lib\\site-packages (from kubernetes>=28.1.0->chromadb!=0.5.10,!=0.5.11,!=0.5.12,!=0.5.4,!=0.5.5,!=0.5.7,!=0.5.9,<0.7.0,>=0.4.0->langchain-chroma) (2.0.0)\n",
      "Requirement already satisfied: oauthlib>=3.2.2 in c:\\users\\mastan\\anaconda3\\lib\\site-packages (from kubernetes>=28.1.0->chromadb!=0.5.10,!=0.5.11,!=0.5.12,!=0.5.4,!=0.5.5,!=0.5.7,!=0.5.9,<0.7.0,>=0.4.0->langchain-chroma) (3.2.2)\n",
      "Requirement already satisfied: durationpy>=0.7 in c:\\users\\mastan\\anaconda3\\lib\\site-packages (from kubernetes>=28.1.0->chromadb!=0.5.10,!=0.5.11,!=0.5.12,!=0.5.4,!=0.5.5,!=0.5.7,!=0.5.9,<0.7.0,>=0.4.0->langchain-chroma) (0.9)\n",
      "Requirement already satisfied: coloredlogs in c:\\users\\mastan\\anaconda3\\lib\\site-packages (from onnxruntime>=1.14.1->chromadb!=0.5.10,!=0.5.11,!=0.5.12,!=0.5.4,!=0.5.5,!=0.5.7,!=0.5.9,<0.7.0,>=0.4.0->langchain-chroma) (15.0.1)\n",
      "Requirement already satisfied: flatbuffers in c:\\users\\mastan\\anaconda3\\lib\\site-packages (from onnxruntime>=1.14.1->chromadb!=0.5.10,!=0.5.11,!=0.5.12,!=0.5.4,!=0.5.5,!=0.5.7,!=0.5.9,<0.7.0,>=0.4.0->langchain-chroma) (25.2.10)\n",
      "Requirement already satisfied: protobuf in c:\\users\\mastan\\anaconda3\\lib\\site-packages (from onnxruntime>=1.14.1->chromadb!=0.5.10,!=0.5.11,!=0.5.12,!=0.5.4,!=0.5.5,!=0.5.7,!=0.5.9,<0.7.0,>=0.4.0->langchain-chroma) (5.29.4)\n",
      "Requirement already satisfied: sympy in c:\\users\\mastan\\anaconda3\\lib\\site-packages (from onnxruntime>=1.14.1->chromadb!=0.5.10,!=0.5.11,!=0.5.12,!=0.5.4,!=0.5.5,!=0.5.7,!=0.5.9,<0.7.0,>=0.4.0->langchain-chroma) (1.14.0)\n",
      "Requirement already satisfied: deprecated>=1.2.6 in c:\\users\\mastan\\anaconda3\\lib\\site-packages (from opentelemetry-api>=1.2.0->chromadb!=0.5.10,!=0.5.11,!=0.5.12,!=0.5.4,!=0.5.5,!=0.5.7,!=0.5.9,<0.7.0,>=0.4.0->langchain-chroma) (1.2.18)\n",
      "Requirement already satisfied: importlib-metadata<8.7.0,>=6.0 in c:\\users\\mastan\\anaconda3\\lib\\site-packages (from opentelemetry-api>=1.2.0->chromadb!=0.5.10,!=0.5.11,!=0.5.12,!=0.5.4,!=0.5.5,!=0.5.7,!=0.5.9,<0.7.0,>=0.4.0->langchain-chroma) (7.0.1)\n",
      "Requirement already satisfied: googleapis-common-protos~=1.52 in c:\\users\\mastan\\anaconda3\\lib\\site-packages (from opentelemetry-exporter-otlp-proto-grpc>=1.2.0->chromadb!=0.5.10,!=0.5.11,!=0.5.12,!=0.5.4,!=0.5.5,!=0.5.7,!=0.5.9,<0.7.0,>=0.4.0->langchain-chroma) (1.70.0)\n",
      "Requirement already satisfied: opentelemetry-exporter-otlp-proto-common==1.33.0 in c:\\users\\mastan\\anaconda3\\lib\\site-packages (from opentelemetry-exporter-otlp-proto-grpc>=1.2.0->chromadb!=0.5.10,!=0.5.11,!=0.5.12,!=0.5.4,!=0.5.5,!=0.5.7,!=0.5.9,<0.7.0,>=0.4.0->langchain-chroma) (1.33.0)\n",
      "Requirement already satisfied: opentelemetry-proto==1.33.0 in c:\\users\\mastan\\anaconda3\\lib\\site-packages (from opentelemetry-exporter-otlp-proto-grpc>=1.2.0->chromadb!=0.5.10,!=0.5.11,!=0.5.12,!=0.5.4,!=0.5.5,!=0.5.7,!=0.5.9,<0.7.0,>=0.4.0->langchain-chroma) (1.33.0)\n",
      "Requirement already satisfied: opentelemetry-instrumentation-asgi==0.54b0 in c:\\users\\mastan\\anaconda3\\lib\\site-packages (from opentelemetry-instrumentation-fastapi>=0.41b0->chromadb!=0.5.10,!=0.5.11,!=0.5.12,!=0.5.4,!=0.5.5,!=0.5.7,!=0.5.9,<0.7.0,>=0.4.0->langchain-chroma) (0.54b0)\n",
      "Requirement already satisfied: opentelemetry-instrumentation==0.54b0 in c:\\users\\mastan\\anaconda3\\lib\\site-packages (from opentelemetry-instrumentation-fastapi>=0.41b0->chromadb!=0.5.10,!=0.5.11,!=0.5.12,!=0.5.4,!=0.5.5,!=0.5.7,!=0.5.9,<0.7.0,>=0.4.0->langchain-chroma) (0.54b0)\n",
      "Requirement already satisfied: opentelemetry-semantic-conventions==0.54b0 in c:\\users\\mastan\\anaconda3\\lib\\site-packages (from opentelemetry-instrumentation-fastapi>=0.41b0->chromadb!=0.5.10,!=0.5.11,!=0.5.12,!=0.5.4,!=0.5.5,!=0.5.7,!=0.5.9,<0.7.0,>=0.4.0->langchain-chroma) (0.54b0)\n",
      "Requirement already satisfied: opentelemetry-util-http==0.54b0 in c:\\users\\mastan\\anaconda3\\lib\\site-packages (from opentelemetry-instrumentation-fastapi>=0.41b0->chromadb!=0.5.10,!=0.5.11,!=0.5.12,!=0.5.4,!=0.5.5,!=0.5.7,!=0.5.9,<0.7.0,>=0.4.0->langchain-chroma) (0.54b0)\n",
      "Requirement already satisfied: wrapt<2.0.0,>=1.0.0 in c:\\users\\mastan\\anaconda3\\lib\\site-packages (from opentelemetry-instrumentation==0.54b0->opentelemetry-instrumentation-fastapi>=0.41b0->chromadb!=0.5.10,!=0.5.11,!=0.5.12,!=0.5.4,!=0.5.5,!=0.5.7,!=0.5.9,<0.7.0,>=0.4.0->langchain-chroma) (1.14.1)\n",
      "Requirement already satisfied: asgiref~=3.0 in c:\\users\\mastan\\anaconda3\\lib\\site-packages (from opentelemetry-instrumentation-asgi==0.54b0->opentelemetry-instrumentation-fastapi>=0.41b0->chromadb!=0.5.10,!=0.5.11,!=0.5.12,!=0.5.4,!=0.5.5,!=0.5.7,!=0.5.9,<0.7.0,>=0.4.0->langchain-chroma) (3.8.1)\n",
      "Requirement already satisfied: backoff>=1.10.0 in c:\\users\\mastan\\anaconda3\\lib\\site-packages (from posthog>=2.4.0->chromadb!=0.5.10,!=0.5.11,!=0.5.12,!=0.5.4,!=0.5.5,!=0.5.7,!=0.5.9,<0.7.0,>=0.4.0->langchain-chroma) (2.2.1)\n",
      "Requirement already satisfied: distro>=1.5.0 in c:\\users\\mastan\\anaconda3\\lib\\site-packages (from posthog>=2.4.0->chromadb!=0.5.10,!=0.5.11,!=0.5.12,!=0.5.4,!=0.5.5,!=0.5.7,!=0.5.9,<0.7.0,>=0.4.0->langchain-chroma) (1.9.0)\n",
      "Requirement already satisfied: annotated-types>=0.6.0 in c:\\users\\mastan\\anaconda3\\lib\\site-packages (from pydantic>=1.9->chromadb!=0.5.10,!=0.5.11,!=0.5.12,!=0.5.4,!=0.5.5,!=0.5.7,!=0.5.9,<0.7.0,>=0.4.0->langchain-chroma) (0.6.0)\n",
      "Requirement already satisfied: pydantic-core==2.33.2 in c:\\users\\mastan\\anaconda3\\lib\\site-packages (from pydantic>=1.9->chromadb!=0.5.10,!=0.5.11,!=0.5.12,!=0.5.4,!=0.5.5,!=0.5.7,!=0.5.9,<0.7.0,>=0.4.0->langchain-chroma) (2.33.2)\n",
      "Requirement already satisfied: typing-inspection>=0.4.0 in c:\\users\\mastan\\anaconda3\\lib\\site-packages (from pydantic>=1.9->chromadb!=0.5.10,!=0.5.11,!=0.5.12,!=0.5.4,!=0.5.5,!=0.5.7,!=0.5.9,<0.7.0,>=0.4.0->langchain-chroma) (0.4.0)\n",
      "Requirement already satisfied: markdown-it-py>=2.2.0 in c:\\users\\mastan\\anaconda3\\lib\\site-packages (from rich>=10.11.0->chromadb!=0.5.10,!=0.5.11,!=0.5.12,!=0.5.4,!=0.5.5,!=0.5.7,!=0.5.9,<0.7.0,>=0.4.0->langchain-chroma) (2.2.0)\n",
      "Requirement already satisfied: pygments<3.0.0,>=2.13.0 in c:\\users\\mastan\\appdata\\roaming\\python\\python312\\site-packages (from rich>=10.11.0->chromadb!=0.5.10,!=0.5.11,!=0.5.12,!=0.5.4,!=0.5.5,!=0.5.7,!=0.5.9,<0.7.0,>=0.4.0->langchain-chroma) (2.19.1)\n",
      "Requirement already satisfied: huggingface-hub<1.0,>=0.16.4 in c:\\users\\mastan\\anaconda3\\lib\\site-packages (from tokenizers>=0.13.2->chromadb!=0.5.10,!=0.5.11,!=0.5.12,!=0.5.4,!=0.5.5,!=0.5.7,!=0.5.9,<0.7.0,>=0.4.0->langchain-chroma) (0.30.2)\n",
      "Requirement already satisfied: click>=8.0.0 in c:\\users\\mastan\\anaconda3\\lib\\site-packages (from typer>=0.9.0->chromadb!=0.5.10,!=0.5.11,!=0.5.12,!=0.5.4,!=0.5.5,!=0.5.7,!=0.5.9,<0.7.0,>=0.4.0->langchain-chroma) (8.1.7)\n",
      "Requirement already satisfied: shellingham>=1.3.0 in c:\\users\\mastan\\anaconda3\\lib\\site-packages (from typer>=0.9.0->chromadb!=0.5.10,!=0.5.11,!=0.5.12,!=0.5.4,!=0.5.5,!=0.5.7,!=0.5.9,<0.7.0,>=0.4.0->langchain-chroma) (1.5.0)\n",
      "Requirement already satisfied: mypy-extensions>=0.3.0 in c:\\users\\mastan\\anaconda3\\lib\\site-packages (from typing-inspect<1,>=0.4.0->dataclasses-json<0.7,>=0.5.7->langchain-community) (1.0.0)\n",
      "Requirement already satisfied: httptools>=0.6.3 in c:\\users\\mastan\\anaconda3\\lib\\site-packages (from uvicorn[standard]>=0.18.3->chromadb!=0.5.10,!=0.5.11,!=0.5.12,!=0.5.4,!=0.5.5,!=0.5.7,!=0.5.9,<0.7.0,>=0.4.0->langchain-chroma) (0.6.4)\n",
      "Requirement already satisfied: watchfiles>=0.13 in c:\\users\\mastan\\anaconda3\\lib\\site-packages (from uvicorn[standard]>=0.18.3->chromadb!=0.5.10,!=0.5.11,!=0.5.12,!=0.5.4,!=0.5.5,!=0.5.7,!=0.5.9,<0.7.0,>=0.4.0->langchain-chroma) (1.0.5)\n",
      "Requirement already satisfied: websockets>=10.4 in c:\\users\\mastan\\anaconda3\\lib\\site-packages (from uvicorn[standard]>=0.18.3->chromadb!=0.5.10,!=0.5.11,!=0.5.12,!=0.5.4,!=0.5.5,!=0.5.7,!=0.5.9,<0.7.0,>=0.4.0->langchain-chroma) (15.0.1)\n",
      "Requirement already satisfied: cachetools<6.0,>=2.0.0 in c:\\users\\mastan\\anaconda3\\lib\\site-packages (from google-auth>=1.0.1->kubernetes>=28.1.0->chromadb!=0.5.10,!=0.5.11,!=0.5.12,!=0.5.4,!=0.5.5,!=0.5.7,!=0.5.9,<0.7.0,>=0.4.0->langchain-chroma) (5.3.3)\n",
      "Requirement already satisfied: pyasn1-modules>=0.2.1 in c:\\users\\mastan\\anaconda3\\lib\\site-packages (from google-auth>=1.0.1->kubernetes>=28.1.0->chromadb!=0.5.10,!=0.5.11,!=0.5.12,!=0.5.4,!=0.5.5,!=0.5.7,!=0.5.9,<0.7.0,>=0.4.0->langchain-chroma) (0.2.8)\n",
      "Requirement already satisfied: rsa<5,>=3.1.4 in c:\\users\\mastan\\anaconda3\\lib\\site-packages (from google-auth>=1.0.1->kubernetes>=28.1.0->chromadb!=0.5.10,!=0.5.11,!=0.5.12,!=0.5.4,!=0.5.5,!=0.5.7,!=0.5.9,<0.7.0,>=0.4.0->langchain-chroma) (4.9.1)\n",
      "Requirement already satisfied: filelock in c:\\users\\mastan\\anaconda3\\lib\\site-packages (from huggingface-hub<1.0,>=0.16.4->tokenizers>=0.13.2->chromadb!=0.5.10,!=0.5.11,!=0.5.12,!=0.5.4,!=0.5.5,!=0.5.7,!=0.5.9,<0.7.0,>=0.4.0->langchain-chroma) (3.13.1)\n",
      "Requirement already satisfied: fsspec>=2023.5.0 in c:\\users\\mastan\\anaconda3\\lib\\site-packages (from huggingface-hub<1.0,>=0.16.4->tokenizers>=0.13.2->chromadb!=0.5.10,!=0.5.11,!=0.5.12,!=0.5.4,!=0.5.5,!=0.5.7,!=0.5.9,<0.7.0,>=0.4.0->langchain-chroma) (2024.6.1)\n",
      "Requirement already satisfied: zipp>=0.5 in c:\\users\\mastan\\anaconda3\\lib\\site-packages (from importlib-metadata<8.7.0,>=6.0->opentelemetry-api>=1.2.0->chromadb!=0.5.10,!=0.5.11,!=0.5.12,!=0.5.4,!=0.5.5,!=0.5.7,!=0.5.9,<0.7.0,>=0.4.0->langchain-chroma) (3.17.0)\n",
      "Requirement already satisfied: mdurl~=0.1 in c:\\users\\mastan\\anaconda3\\lib\\site-packages (from markdown-it-py>=2.2.0->rich>=10.11.0->chromadb!=0.5.10,!=0.5.11,!=0.5.12,!=0.5.4,!=0.5.5,!=0.5.7,!=0.5.9,<0.7.0,>=0.4.0->langchain-chroma) (0.1.0)\n",
      "Requirement already satisfied: humanfriendly>=9.1 in c:\\users\\mastan\\anaconda3\\lib\\site-packages (from coloredlogs->onnxruntime>=1.14.1->chromadb!=0.5.10,!=0.5.11,!=0.5.12,!=0.5.4,!=0.5.5,!=0.5.7,!=0.5.9,<0.7.0,>=0.4.0->langchain-chroma) (10.0)\n",
      "Requirement already satisfied: mpmath<1.4,>=1.1.0 in c:\\users\\mastan\\anaconda3\\lib\\site-packages (from sympy->onnxruntime>=1.14.1->chromadb!=0.5.10,!=0.5.11,!=0.5.12,!=0.5.4,!=0.5.5,!=0.5.7,!=0.5.9,<0.7.0,>=0.4.0->langchain-chroma) (1.3.0)\n",
      "Requirement already satisfied: pyreadline3 in c:\\users\\mastan\\anaconda3\\lib\\site-packages (from humanfriendly>=9.1->coloredlogs->onnxruntime>=1.14.1->chromadb!=0.5.10,!=0.5.11,!=0.5.12,!=0.5.4,!=0.5.5,!=0.5.7,!=0.5.9,<0.7.0,>=0.4.0->langchain-chroma) (3.5.4)\n",
      "Requirement already satisfied: pyasn1<0.5.0,>=0.4.6 in c:\\users\\mastan\\anaconda3\\lib\\site-packages (from pyasn1-modules>=0.2.1->google-auth>=1.0.1->kubernetes>=28.1.0->chromadb!=0.5.10,!=0.5.11,!=0.5.12,!=0.5.4,!=0.5.5,!=0.5.7,!=0.5.9,<0.7.0,>=0.4.0->langchain-chroma) (0.4.8)\n",
      "Note: you may need to restart the kernel to use updated packages.\n"
     ]
    }
   ],
   "source": [
    "pip install -U langchain-community langchain-chroma"
   ]
  },
  {
   "cell_type": "code",
   "execution_count": 49,
   "id": "755c5910-a2c6-4c9f-abd8-a23ebca7c2d8",
   "metadata": {},
   "outputs": [],
   "source": [
    "# imports for langchain and Chroma\n",
    "\n",
    "from langchain.document_loaders import DirectoryLoader, TextLoader\n",
    "from langchain.text_splitter import CharacterTextSplitter\n",
    "from langchain.schema import Document\n",
    "from langchain_chroma import Chroma\n",
    "import numpy as np\n",
    "from langchain.memory import ConversationBufferMemory\n",
    "from langchain.chains import ConversationalRetrievalChain\n",
    "from langchain.embeddings import HuggingFaceEmbeddings"
   ]
  },
  {
   "cell_type": "code",
   "execution_count": 50,
   "id": "55805ec2-4d61-459b-9d79-2f47d8945f69",
   "metadata": {},
   "outputs": [],
   "source": [
    "from langchain.memory import ConversationBufferMemory\n",
    "from langchain.chains import ConversationalRetrievalChain\n",
    "from langchain.embeddings import HuggingFaceEmbeddings"
   ]
  },
  {
   "cell_type": "code",
   "execution_count": 51,
   "id": "808a4679-4a1b-42e9-82c3-a987a8fa1a70",
   "metadata": {
    "scrolled": true
   },
   "outputs": [],
   "source": [
    "import wikipedia  # Wikipedia API\n",
    "import requests   # To make HTTP requests\n",
    "from bs4 import BeautifulSoup  # For web scraping"
   ]
  },
  {
   "cell_type": "code",
   "execution_count": 52,
   "id": "c1c18cb7-12ff-472d-a9a0-d0d97929af00",
   "metadata": {},
   "outputs": [],
   "source": [
    "# Create base folders\n",
    "folders = [\"wikipedia\", \"cricinfo\", \"youtube\", \"books\", \"quotes\"]\n",
    "base_folder = \"knowledge-base\"\n",
    "for folder in folders:\n",
    "    os.makedirs(os.path.join(base_folder, folder), exist_ok=True)"
   ]
  },
  {
   "cell_type": "code",
   "execution_count": 53,
   "id": "9911a1b8-35a0-4dab-ba89-787de2b5dd99",
   "metadata": {},
   "outputs": [],
   "source": [
    "# Save text to a file\n",
    "def save_to_file(content, folder, filename):\n",
    "    path = os.path.join(base_folder, folder, filename)\n",
    "    with open(path, \"w\", encoding=\"utf-8\") as f:\n",
    "        f.write(content)\n",
    "    print(\"Saved:\", path)"
   ]
  },
  {
   "cell_type": "code",
   "execution_count": 54,
   "id": "39508e3c-fc2f-45de-a7fa-9acd5ad1859d",
   "metadata": {},
   "outputs": [],
   "source": [
    "# 1. Wikipedia content\n",
    "def fetch_wikipedia():\n",
    "    try:\n",
    "        url = \"https://en.wikipedia.org/wiki/MS_Dhoni\"\n",
    "        res = requests.get(url)\n",
    "        soup = BeautifulSoup(res.text, \"html.parser\")\n",
    "        paragraphs = soup.find_all(\"p\")\n",
    "        text = \"\\n\".join(p.text for p in paragraphs if p.text.strip() != \"\")\n",
    "        save_to_file(text, \"wikipedia\", \"ms_dhoni.md\")\n",
    "    except Exception as e:\n",
    "        print(\"Wikipedia Error:\", e)"
   ]
  },
  {
   "cell_type": "code",
   "execution_count": 55,
   "id": "26060edf-ec0f-44a9-a828-f09d20b2814a",
   "metadata": {},
   "outputs": [],
   "source": [
    "# 2. Cricinfo content\n",
    "def fetch_cricinfo():\n",
    "    try:\n",
    "        url = \"https://www.espncricinfo.com/player/ms-dhoni-28081\"\n",
    "        res = requests.get(url)\n",
    "        soup = BeautifulSoup(res.text, \"html.parser\")\n",
    "        paragraphs = soup.find_all(\"p\")\n",
    "        text = \"\\n\".join(p.text for p in paragraphs if p.text.strip() != \"\")\n",
    "        save_to_file(text, \"cricinfo\", \"dhoni_stats.md\")\n",
    "    except Exception as e:\n",
    "        print(\"Cricinfo Error:\", e)"
   ]
  },
  {
   "cell_type": "code",
   "execution_count": 56,
   "id": "1f0ce285-73c3-454b-a5c0-7cb31fb0548e",
   "metadata": {},
   "outputs": [],
   "source": [
    "# # 3. YouTube transcript \n",
    "# def transcribe_youtube(url):\n",
    "#     try:\n",
    "#         subprocess.run([\"yt-dlp\", \"-x\", \"--audio-format\", \"mp3\", url, \"-o\", \"yt_audio.%(ext)s\"], check=True)\n",
    "#         subprocess.run([\"whisper\", \"yt_audio.mp3\", \"--model\", \"base\", \"--output_format\", \"txt\"], check=True)\n",
    "#         with open(\"yt_audio.txt\", \"r\", encoding=\"utf-8\") as f:\n",
    "#             text = f.read()\n",
    "#         save_to_file(text, \"youtube\", \"interview_transcript.md\")\n",
    "#     except Exception as e:\n",
    "#         print(\"YouTube Error:\", e) # This is the optional part doesn't work out for some cases."
   ]
  },
  {
   "cell_type": "code",
   "execution_count": 3,
   "id": "6a2daf20-8653-4e2b-8188-64ea28f5bfd1",
   "metadata": {},
   "outputs": [],
   "source": [
    "# 4. PDF to text (optional)\n",
    "def extract_pdf_text(pdf_path, save_name=\"msd_book.md\"):\n",
    "    try:\n",
    "        doc = fitz.open(pdf_path)\n",
    "        text = \"\\n\".join([page.get_text() for page in doc])\n",
    "        save_to_file(text, \"books\", save_name)\n",
    "    except Exception as e:\n",
    "        print(\"PDF Error:\", e)"
   ]
  },
  {
   "cell_type": "code",
   "execution_count": 58,
   "id": "ea52e1d5-aa6f-4b42-a7a3-f07f7014f16a",
   "metadata": {},
   "outputs": [],
   "source": [
    "# 5. Add quotes\n",
    "def add_custom_quotes():\n",
    "    quotes = [\n",
    "        \"I don't mind repeating everything.\",\n",
    "        \"You don't play for the crowd, you play for the country.\",\n",
    "        \"Process is more important than the result.\"\n",
    "    ]\n",
    "    save_to_file(\"\\n\".join(quotes), \"quotes\", \"inspirational_quotes.md\")"
   ]
  },
  {
   "cell_type": "code",
   "execution_count": 59,
   "id": "271a4df8-19c2-4db8-aef4-173f82717e68",
   "metadata": {},
   "outputs": [
    {
     "name": "stdout",
     "output_type": "stream",
     "text": [
      "Saved: knowledge-base\\wikipedia\\ms_dhoni.md\n",
      "Saved: knowledge-base\\cricinfo\\dhoni_stats.md\n",
      "Saved: knowledge-base\\quotes\\inspirational_quotes.md\n"
     ]
    }
   ],
   "source": [
    "# Run functions\n",
    "fetch_wikipedia()\n",
    "fetch_cricinfo()\n",
    "add_custom_quotes()"
   ]
  },
  {
   "cell_type": "code",
   "execution_count": 5,
   "id": "032b6f11-16eb-4673-a5d4-64a966f197fd",
   "metadata": {},
   "outputs": [
    {
     "name": "stdout",
     "output_type": "stream",
     "text": [
      "PDF Error: name 'fitz' is not defined\n"
     ]
    }
   ],
   "source": [
    "#transcribe_youtube(\"https://www.youtube.com/watch?v=example\")\n",
    "extract_pdf_text(\"msd_book.pdf\") ## System is getting some unwanted error, That's why i am not considering pdf part."
   ]
  },
  {
   "cell_type": "code",
   "execution_count": 61,
   "id": "0c13a523-6769-413d-9d1f-e78a1139e602",
   "metadata": {
    "scrolled": true
   },
   "outputs": [
    {
     "name": "stderr",
     "output_type": "stream",
     "text": [
      "Created a chunk of size 1175, which is longer than the specified 1000\n",
      "Created a chunk of size 1355, which is longer than the specified 1000\n",
      "Created a chunk of size 1277, which is longer than the specified 1000\n",
      "Created a chunk of size 2327, which is longer than the specified 1000\n",
      "Created a chunk of size 1632, which is longer than the specified 1000\n",
      "Created a chunk of size 1167, which is longer than the specified 1000\n",
      "Created a chunk of size 2315, which is longer than the specified 1000\n",
      "Created a chunk of size 2149, which is longer than the specified 1000\n",
      "Created a chunk of size 1662, which is longer than the specified 1000\n",
      "Created a chunk of size 1285, which is longer than the specified 1000\n",
      "Created a chunk of size 2328, which is longer than the specified 1000\n",
      "Created a chunk of size 2203, which is longer than the specified 1000\n",
      "Created a chunk of size 2263, which is longer than the specified 1000\n",
      "Created a chunk of size 2208, which is longer than the specified 1000\n",
      "Created a chunk of size 2249, which is longer than the specified 1000\n",
      "Created a chunk of size 2291, which is longer than the specified 1000\n",
      "Created a chunk of size 2231, which is longer than the specified 1000\n",
      "Created a chunk of size 2129, which is longer than the specified 1000\n",
      "Created a chunk of size 1219, which is longer than the specified 1000\n",
      "Created a chunk of size 2336, which is longer than the specified 1000\n",
      "Created a chunk of size 2096, which is longer than the specified 1000\n",
      "Created a chunk of size 2363, which is longer than the specified 1000\n",
      "Created a chunk of size 2193, which is longer than the specified 1000\n",
      "Created a chunk of size 2182, which is longer than the specified 1000\n",
      "Created a chunk of size 1243, which is longer than the specified 1000\n",
      "Created a chunk of size 2160, which is longer than the specified 1000\n",
      "Created a chunk of size 2092, which is longer than the specified 1000\n",
      "Created a chunk of size 2211, which is longer than the specified 1000\n",
      "Created a chunk of size 2085, which is longer than the specified 1000\n",
      "Created a chunk of size 2162, which is longer than the specified 1000\n",
      "Created a chunk of size 2032, which is longer than the specified 1000\n",
      "Created a chunk of size 1238, which is longer than the specified 1000\n",
      "Created a chunk of size 2349, which is longer than the specified 1000\n",
      "Created a chunk of size 2303, which is longer than the specified 1000\n",
      "Created a chunk of size 2388, which is longer than the specified 1000\n",
      "Created a chunk of size 2226, which is longer than the specified 1000\n",
      "Created a chunk of size 2221, which is longer than the specified 1000\n",
      "Created a chunk of size 2311, which is longer than the specified 1000\n",
      "Created a chunk of size 2077, which is longer than the specified 1000\n",
      "Created a chunk of size 2161, which is longer than the specified 1000\n",
      "Created a chunk of size 2095, which is longer than the specified 1000\n",
      "Created a chunk of size 2278, which is longer than the specified 1000\n",
      "Created a chunk of size 2260, which is longer than the specified 1000\n",
      "Created a chunk of size 2174, which is longer than the specified 1000\n",
      "Created a chunk of size 1211, which is longer than the specified 1000\n",
      "Created a chunk of size 1316, which is longer than the specified 1000\n",
      "Created a chunk of size 2236, which is longer than the specified 1000\n",
      "Created a chunk of size 2379, which is longer than the specified 1000\n",
      "Created a chunk of size 2237, which is longer than the specified 1000\n",
      "Created a chunk of size 2294, which is longer than the specified 1000\n",
      "Created a chunk of size 2397, which is longer than the specified 1000\n",
      "Created a chunk of size 2263, which is longer than the specified 1000\n",
      "Created a chunk of size 2189, which is longer than the specified 1000\n",
      "Created a chunk of size 2227, which is longer than the specified 1000\n",
      "Created a chunk of size 2248, which is longer than the specified 1000\n",
      "Created a chunk of size 1229, which is longer than the specified 1000\n",
      "Created a chunk of size 2254, which is longer than the specified 1000\n",
      "Created a chunk of size 2332, which is longer than the specified 1000\n",
      "Created a chunk of size 2488, which is longer than the specified 1000\n",
      "Created a chunk of size 2301, which is longer than the specified 1000\n",
      "Created a chunk of size 2485, which is longer than the specified 1000\n",
      "Created a chunk of size 2339, which is longer than the specified 1000\n",
      "Created a chunk of size 2247, which is longer than the specified 1000\n",
      "Created a chunk of size 2252, which is longer than the specified 1000\n",
      "Created a chunk of size 2327, which is longer than the specified 1000\n",
      "Created a chunk of size 2096, which is longer than the specified 1000\n",
      "Created a chunk of size 1170, which is longer than the specified 1000\n",
      "Created a chunk of size 2443, which is longer than the specified 1000\n",
      "Created a chunk of size 2244, which is longer than the specified 1000\n",
      "Created a chunk of size 2298, which is longer than the specified 1000\n",
      "Created a chunk of size 2442, which is longer than the specified 1000\n",
      "Created a chunk of size 2333, which is longer than the specified 1000\n",
      "Created a chunk of size 2299, which is longer than the specified 1000\n",
      "Created a chunk of size 2489, which is longer than the specified 1000\n",
      "Created a chunk of size 2417, which is longer than the specified 1000\n",
      "Created a chunk of size 2360, which is longer than the specified 1000\n",
      "Created a chunk of size 2260, which is longer than the specified 1000\n",
      "Created a chunk of size 2400, which is longer than the specified 1000\n",
      "Created a chunk of size 1241, which is longer than the specified 1000\n",
      "Created a chunk of size 1237, which is longer than the specified 1000\n",
      "Created a chunk of size 2194, which is longer than the specified 1000\n",
      "Created a chunk of size 2361, which is longer than the specified 1000\n",
      "Created a chunk of size 2210, which is longer than the specified 1000\n",
      "Created a chunk of size 2280, which is longer than the specified 1000\n",
      "Created a chunk of size 2292, which is longer than the specified 1000\n",
      "Created a chunk of size 2361, which is longer than the specified 1000\n",
      "Created a chunk of size 2257, which is longer than the specified 1000\n",
      "Created a chunk of size 2230, which is longer than the specified 1000\n",
      "Created a chunk of size 2312, which is longer than the specified 1000\n",
      "Created a chunk of size 2354, which is longer than the specified 1000\n",
      "Created a chunk of size 2203, which is longer than the specified 1000\n",
      "Created a chunk of size 2400, which is longer than the specified 1000\n",
      "Created a chunk of size 1221, which is longer than the specified 1000\n",
      "Created a chunk of size 2185, which is longer than the specified 1000\n",
      "Created a chunk of size 2376, which is longer than the specified 1000\n",
      "Created a chunk of size 2285, which is longer than the specified 1000\n",
      "Created a chunk of size 2223, which is longer than the specified 1000\n",
      "Created a chunk of size 2238, which is longer than the specified 1000\n",
      "Created a chunk of size 2169, which is longer than the specified 1000\n",
      "Created a chunk of size 2283, which is longer than the specified 1000\n",
      "Created a chunk of size 1191, which is longer than the specified 1000\n",
      "Created a chunk of size 2137, which is longer than the specified 1000\n",
      "Created a chunk of size 2275, which is longer than the specified 1000\n",
      "Created a chunk of size 2132, which is longer than the specified 1000\n",
      "Created a chunk of size 2307, which is longer than the specified 1000\n",
      "Created a chunk of size 2330, which is longer than the specified 1000\n",
      "Created a chunk of size 2258, which is longer than the specified 1000\n",
      "Created a chunk of size 2271, which is longer than the specified 1000\n",
      "Created a chunk of size 1649, which is longer than the specified 1000\n",
      "Created a chunk of size 1259, which is longer than the specified 1000\n",
      "Created a chunk of size 2312, which is longer than the specified 1000\n",
      "Created a chunk of size 2384, which is longer than the specified 1000\n",
      "Created a chunk of size 2433, which is longer than the specified 1000\n",
      "Created a chunk of size 2304, which is longer than the specified 1000\n",
      "Created a chunk of size 2171, which is longer than the specified 1000\n",
      "Created a chunk of size 2146, which is longer than the specified 1000\n",
      "Created a chunk of size 2018, which is longer than the specified 1000\n",
      "Created a chunk of size 1305, which is longer than the specified 1000\n",
      "Created a chunk of size 2296, which is longer than the specified 1000\n",
      "Created a chunk of size 2352, which is longer than the specified 1000\n",
      "Created a chunk of size 2356, which is longer than the specified 1000\n",
      "Created a chunk of size 2388, which is longer than the specified 1000\n",
      "Created a chunk of size 2318, which is longer than the specified 1000\n",
      "Created a chunk of size 2329, which is longer than the specified 1000\n",
      "Created a chunk of size 1845, which is longer than the specified 1000\n",
      "Created a chunk of size 1193, which is longer than the specified 1000\n",
      "Created a chunk of size 2387, which is longer than the specified 1000\n",
      "Created a chunk of size 2364, which is longer than the specified 1000\n",
      "Created a chunk of size 2330, which is longer than the specified 1000\n",
      "Created a chunk of size 2291, which is longer than the specified 1000\n",
      "Created a chunk of size 2355, which is longer than the specified 1000\n",
      "Created a chunk of size 2384, which is longer than the specified 1000\n",
      "Created a chunk of size 2301, which is longer than the specified 1000\n",
      "Created a chunk of size 2419, which is longer than the specified 1000\n",
      "Created a chunk of size 2358, which is longer than the specified 1000\n",
      "Created a chunk of size 1254, which is longer than the specified 1000\n",
      "Created a chunk of size 2390, which is longer than the specified 1000\n",
      "Created a chunk of size 2328, which is longer than the specified 1000\n",
      "Created a chunk of size 2350, which is longer than the specified 1000\n",
      "Created a chunk of size 2356, which is longer than the specified 1000\n",
      "Created a chunk of size 2405, which is longer than the specified 1000\n",
      "Created a chunk of size 2378, which is longer than the specified 1000\n",
      "Created a chunk of size 2209, which is longer than the specified 1000\n",
      "Created a chunk of size 1183, which is longer than the specified 1000\n",
      "Created a chunk of size 2390, which is longer than the specified 1000\n",
      "Created a chunk of size 2298, which is longer than the specified 1000\n",
      "Created a chunk of size 2268, which is longer than the specified 1000\n",
      "Created a chunk of size 2312, which is longer than the specified 1000\n",
      "Created a chunk of size 2341, which is longer than the specified 1000\n",
      "Created a chunk of size 2209, which is longer than the specified 1000\n",
      "Created a chunk of size 2312, which is longer than the specified 1000\n",
      "Created a chunk of size 2223, which is longer than the specified 1000\n",
      "Created a chunk of size 2162, which is longer than the specified 1000\n",
      "Created a chunk of size 2247, which is longer than the specified 1000\n",
      "Created a chunk of size 2157, which is longer than the specified 1000\n",
      "Created a chunk of size 2222, which is longer than the specified 1000\n",
      "Created a chunk of size 1499, which is longer than the specified 1000\n",
      "Created a chunk of size 1353, which is longer than the specified 1000\n",
      "Created a chunk of size 2423, which is longer than the specified 1000\n",
      "Created a chunk of size 2379, which is longer than the specified 1000\n",
      "Created a chunk of size 2277, which is longer than the specified 1000\n",
      "Created a chunk of size 1323, which is longer than the specified 1000\n",
      "Created a chunk of size 2257, which is longer than the specified 1000\n",
      "Created a chunk of size 2312, which is longer than the specified 1000\n",
      "Created a chunk of size 1973, which is longer than the specified 1000\n",
      "Created a chunk of size 1249, which is longer than the specified 1000\n",
      "Created a chunk of size 2459, which is longer than the specified 1000\n",
      "Created a chunk of size 2338, which is longer than the specified 1000\n",
      "Created a chunk of size 2398, which is longer than the specified 1000\n",
      "Created a chunk of size 2328, which is longer than the specified 1000\n",
      "Created a chunk of size 1311, which is longer than the specified 1000\n",
      "Created a chunk of size 2345, which is longer than the specified 1000\n",
      "Created a chunk of size 2261, which is longer than the specified 1000\n",
      "Created a chunk of size 2377, which is longer than the specified 1000\n",
      "Created a chunk of size 2293, which is longer than the specified 1000\n",
      "Created a chunk of size 2290, which is longer than the specified 1000\n",
      "Created a chunk of size 1268, which is longer than the specified 1000\n",
      "Created a chunk of size 1396, which is longer than the specified 1000\n",
      "Created a chunk of size 1105, which is longer than the specified 1000\n",
      "Created a chunk of size 1054, which is longer than the specified 1000\n"
     ]
    },
    {
     "name": "stdout",
     "output_type": "stream",
     "text": [
      "Total number of chunks: 226\n",
      "Document types found: {'wikipedia', 'cricinfo', 'books', 'quotes'}\n"
     ]
    }
   ],
   "source": [
    "# Read in documents using LangChain's loaders\n",
    "# Take everything in all the sub-folders of our knowledgebase\n",
    "\n",
    "folders = glob.glob(\"knowledge-base/*\")\n",
    "\n",
    "def add_metadata(doc, doc_type):\n",
    "    doc.metadata[\"doc_type\"] = doc_type\n",
    "    return doc\n",
    "\n",
    "# With thanks to CG and Jon R, students on the course, for this fix needed for some users \n",
    "text_loader_kwargs = {'encoding': 'utf-8'}\n",
    "# If that doesn't work, some Windows users might need to uncomment the next line instead\n",
    "# text_loader_kwargs={'autodetect_encoding': True}\n",
    "\n",
    "documents = []\n",
    "for folder in folders:\n",
    "    doc_type = os.path.basename(folder)\n",
    "    loader = DirectoryLoader(folder, glob=\"**/*.md\", loader_cls=TextLoader, loader_kwargs=text_loader_kwargs)\n",
    "    folder_docs = loader.load()\n",
    "    documents.extend([add_metadata(doc, doc_type) for doc in folder_docs])\n",
    "\n",
    "text_splitter = CharacterTextSplitter(chunk_size=1000, chunk_overlap=200)\n",
    "chunks = text_splitter.split_documents(documents)\n",
    "\n",
    "print(f\"Total number of chunks: {len(chunks)}\")\n",
    "print(f\"Document types found: {set(doc.metadata['doc_type'] for doc in documents)}\")"
   ]
  },
  {
   "cell_type": "code",
   "execution_count": 62,
   "id": "eddcc8fd-67d7-48db-af7f-e16d051145be",
   "metadata": {},
   "outputs": [],
   "source": [
    "from langchain.embeddings import HuggingFaceEmbeddings\n",
    "embeddings = HuggingFaceEmbeddings(model_name=\"sentence-transformers/all-MiniLM-L6-v2\")\n"
   ]
  },
  {
   "cell_type": "code",
   "execution_count": 63,
   "id": "a0317113-b3dd-41ae-b539-e48585bab652",
   "metadata": {},
   "outputs": [
    {
     "name": "stdout",
     "output_type": "stream",
     "text": [
      "Vectorstore created with 678 documents\n"
     ]
    }
   ],
   "source": [
    "# Create vectorstore\n",
    "from langchain_chroma import Chroma\n",
    "vectorstore = Chroma.from_documents(documents=chunks, embedding=embeddings, persist_directory=db_name)\n",
    "print(f\"Vectorstore created with {vectorstore._collection.count()} documents\")"
   ]
  },
  {
   "cell_type": "markdown",
   "id": "4a5ff2a0-f2af-466c-8b34-75a2ade2e38e",
   "metadata": {},
   "source": [
    "## Time to use LangChain to bring it all together"
   ]
  },
  {
   "cell_type": "code",
   "execution_count": 65,
   "id": "8150019f-8f58-4ca1-a282-325b147d56ad",
   "metadata": {},
   "outputs": [],
   "source": [
    "from langchain_openai import ChatOpenAI"
   ]
  },
  {
   "cell_type": "code",
   "execution_count": 66,
   "id": "a8fefd31-3914-4d08-bc78-5b0480e9c686",
   "metadata": {},
   "outputs": [],
   "source": [
    "# create a new Chat with OpenAI\n",
    "llm = ChatOpenAI(temperature=0.7, model_name='llama3.2', base_url='http://localhost:11434/v1', api_key='ollama')\n",
    "\n",
    "# set up the conversation memory for the chat\n",
    "memory = ConversationBufferMemory(memory_key='chat_history', return_messages=True)\n",
    "\n",
    "# the retriever is an abstraction over the VectorStore that will be used during RAG\n",
    "retriever = vectorstore.as_retriever()\n",
    "\n",
    "# putting it together: set up the conversation chain with the llama3.2 LLM, the vector store and memory\n",
    "conversation_chain = ConversationalRetrievalChain.from_llm(llm=llm, retriever=retriever, memory=memory)"
   ]
  },
  {
   "cell_type": "code",
   "execution_count": 67,
   "id": "c2cbeb84-7863-44d6-bd47-f72c2bf55d56",
   "metadata": {},
   "outputs": [
    {
     "name": "stdout",
     "output_type": "stream",
     "text": [
      "According to the context provided, MS Dhoni was born on 7 July 1981, but his current age is not mentioned. However, based on this birthdate, we can calculate his age. As of my knowledge cutoff in December 2023, MS Dhoni's age would be approximately 42 years old (if he were still alive), but please note that I'm an AI and do not have real-time access to current events or the current age of individuals.\n"
     ]
    }
   ],
   "source": [
    "# Let's try a simple question\n",
    "\n",
    "query = \"what is the age of ms dhoni\"\n",
    "result = conversation_chain.invoke({\"question\": query})\n",
    "print(result[\"answer\"])"
   ]
  },
  {
   "cell_type": "code",
   "execution_count": 68,
   "id": "d13f8beb-8e2b-4e80-8c8c-9c4a48b99a05",
   "metadata": {},
   "outputs": [],
   "source": [
    "# set up a new conversation memory for the chat\n",
    "memory = ConversationBufferMemory(memory_key='chat_history', return_messages=True)\n",
    "\n",
    "# putting it together: set up the conversation chain with the llama3.2 LLM, the vector store and memory\n",
    "conversation_chain = ConversationalRetrievalChain.from_llm(llm=llm, retriever=retriever, memory=memory)"
   ]
  },
  {
   "cell_type": "markdown",
   "id": "8d95b670-8819-4c99-a2bb-a67ff15ab79c",
   "metadata": {},
   "source": [
    "## Lets play with Gradio"
   ]
  },
  {
   "cell_type": "code",
   "execution_count": 70,
   "id": "f1b4c151-4db4-4dce-8de4-ffe611ef3946",
   "metadata": {},
   "outputs": [],
   "source": [
    "def chat(question, history):\n",
    "    result = conversation_chain.invoke({\"question\": question})\n",
    "    return result[\"answer\"]"
   ]
  },
  {
   "cell_type": "code",
   "execution_count": 71,
   "id": "7717f7b1-6fa0-4ff4-b284-87ee15b41771",
   "metadata": {},
   "outputs": [
    {
     "name": "stdout",
     "output_type": "stream",
     "text": [
      "* Running on local URL:  http://127.0.0.1:7865\n",
      "\n",
      "To create a public link, set `share=True` in `launch()`.\n"
     ]
    },
    {
     "data": {
      "text/html": [
       "<div><iframe src=\"http://127.0.0.1:7865/\" width=\"100%\" height=\"500\" allow=\"autoplay; camera; microphone; clipboard-read; clipboard-write;\" frameborder=\"0\" allowfullscreen></iframe></div>"
      ],
      "text/plain": [
       "<IPython.core.display.HTML object>"
      ]
     },
     "metadata": {},
     "output_type": "display_data"
    }
   ],
   "source": [
    "view = gr.ChatInterface(chat, type=\"messages\").launch(inbrowser=True)"
   ]
  },
  {
   "cell_type": "code",
   "execution_count": 72,
   "id": "12ebe10d-8be2-44ae-8b17-27afad815a8b",
   "metadata": {},
   "outputs": [],
   "source": [
    "# create a new Chat with OpenAI\n",
    "llm = ChatOpenAI(temperature=0.7, model_name='llama3.2', base_url='http://localhost:11434/v1', api_key='ollama')\n",
    "\n",
    "# set up the conversation memory for the chat\n",
    "memory = ConversationBufferMemory(memory_key='chat_history', return_messages=True)\n",
    "\n",
    "# the retriever is an abstraction over the VectorStore that will be used during RAG; k is how many chunks to use\n",
    "retriever = vectorstore.as_retriever(search_kwargs={\"k\": 100})\n",
    "\n",
    "# putting it together: set up the conversation chain with the GPT 3.5 LLM, the vector store and memory\n",
    "conversation_chain = ConversationalRetrievalChain.from_llm(llm=llm, retriever=retriever, memory=memory)"
   ]
  },
  {
   "cell_type": "code",
   "execution_count": 73,
   "id": "c39fb812-dd9f-40b6-9323-f8b7f80b647b",
   "metadata": {},
   "outputs": [],
   "source": [
    "def chat(question, history):\n",
    "    result = conversation_chain.invoke({\"question\": question})\n",
    "    return result[\"answer\"]"
   ]
  },
  {
   "cell_type": "code",
   "execution_count": 74,
   "id": "052c1c52-136d-49b5-9513-1e8d61bf8a36",
   "metadata": {},
   "outputs": [
    {
     "name": "stdout",
     "output_type": "stream",
     "text": [
      "* Running on local URL:  http://127.0.0.1:7866\n",
      "\n",
      "To create a public link, set `share=True` in `launch()`.\n"
     ]
    },
    {
     "data": {
      "text/html": [
       "<div><iframe src=\"http://127.0.0.1:7866/\" width=\"100%\" height=\"500\" allow=\"autoplay; camera; microphone; clipboard-read; clipboard-write;\" frameborder=\"0\" allowfullscreen></iframe></div>"
      ],
      "text/plain": [
       "<IPython.core.display.HTML object>"
      ]
     },
     "metadata": {},
     "output_type": "display_data"
    }
   ],
   "source": [
    "view = gr.ChatInterface(chat, type=\"messages\").launch(inbrowser=True)"
   ]
  }
 ],
 "metadata": {
  "kernelspec": {
   "display_name": "Python 3 (ipykernel)",
   "language": "python",
   "name": "python3"
  },
  "language_info": {
   "codemirror_mode": {
    "name": "ipython",
    "version": 3
   },
   "file_extension": ".py",
   "mimetype": "text/x-python",
   "name": "python",
   "nbconvert_exporter": "python",
   "pygments_lexer": "ipython3",
   "version": "3.12.7"
  }
 },
 "nbformat": 4,
 "nbformat_minor": 5
}
